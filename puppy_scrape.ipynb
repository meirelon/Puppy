{
 "cells": [
  {
   "cell_type": "code",
   "execution_count": 57,
   "metadata": {
    "collapsed": false
   },
   "outputs": [],
   "source": [
    "import lxml.html\n",
    "import requests\n",
    "from bs4 import BeautifulSoup as bs\n",
    "import pandas as pd\n",
    "import re\n",
    "import string\n",
    "import warnings\n",
    "import os\n",
    "import urllib.request\n",
    "warnings.filterwarnings('ignore')"
   ]
  },
  {
   "cell_type": "code",
   "execution_count": 3,
   "metadata": {
    "collapsed": true
   },
   "outputs": [],
   "source": [
    "os.chdir('C:/Users/mnest/Google Drive/PYWD')"
   ]
  },
  {
   "cell_type": "code",
   "execution_count": 33,
   "metadata": {
    "collapsed": false
   },
   "outputs": [],
   "source": [
    "def get_puppy_info(puppy_id):\n",
    "    url = \"https://www.puppyspot.com/puppies/view/%s/?page=1\" % puppy_id\n",
    "    r = requests.get(url)\n",
    "    all_tags = bs(r.content, \"html.parser\")\n",
    "    \n",
    "    feature = [x.get_text().strip() for x in all_tags.find_all(\"dt\")][0:12]\n",
    "    answer = [x.get_text().strip() for x in all_tags.find_all(\"dd\")][0:12]\n",
    "    pup_dict = dict(zip(feature, answer))\n",
    "    try:\n",
    "        del pup_dict['Markings']\n",
    "    except KeyError:\n",
    "        pass\n",
    "    try:\n",
    "        del pup_dict['Variety']\n",
    "    except KeyError:\n",
    "        pass\n",
    "    pup_df = pd.DataFrame(pup_dict, index=[0])\n",
    "    pup_df[\"bio\"] = str([x.get_text().strip() for x in all_tags.find_all(class_ = \"puppy-bio\")][0])\n",
    "    pup_name = [x.get_text().strip() for x in all_tags.find_all(class_ = \"puppy-detail-header-container\")][0]\n",
    "    pup_name = re.search(string = pup_name, pattern = \"^[^\\n]+\").group(0).strip()\n",
    "    pup_df.insert(0, column=\"puppy_name\", value=pup_name)\n",
    "\n",
    "    if not os.path.exists('./Puppyspot/dog_pics/%s' % str(pup_df['Breed'][0])):\n",
    "        os.makedirs('./Puppyspot/dog_pics/%s' % str(pup_df['Breed'][0]))\n",
    "\n",
    "    urllib.request.urlretrieve(all_tags.find(\"img\")['src'], './Puppyspot/dog_pics/%s/%s.jpg' % (str(pup_df['Breed'][0]), str(pup_df['Puppy ID'][0])))\n",
    "    \n",
    "    return(pup_df)"
   ]
  },
  {
   "cell_type": "code",
   "execution_count": null,
   "metadata": {
    "collapsed": false
   },
   "outputs": [
    {
     "name": "stdout",
     "output_type": "stream",
     "text": [
      "490000 490100 490200 490300 490400 "
     ]
    }
   ],
   "source": [
    "for i in range(490000, 530000):\n",
    "    if(i % 100 == 0):\n",
    "        print(i, end=\" \")\n",
    "    puppy_df = pd.DataFrame()\n",
    "    try:\n",
    "        puppy_df = get_puppy_info(str(i))\n",
    "    except:\n",
    "        next\n",
    "    if not os.path.isfile(\"C:\\\\Users\\\\mnest\\\\Google Drive\\\\PYWD\\\\Puppyspot\\\\puppy_info3.csv\"):\n",
    "        puppy_df.to_csv(\"C:\\\\Users\\\\mnest\\\\Google Drive\\\\PYWD\\\\Puppyspot\\\\puppy_info3.csv\", mode = \"a\", index = False, header = True)\n",
    "    else:\n",
    "        puppy_df.to_csv(\"C:\\\\Users\\\\mnest\\\\Google Drive\\\\PYWD\\\\Puppyspot\\\\puppy_info3.csv\", mode='a', index = False, header = False)"
   ]
  }
 ],
 "metadata": {
  "kernelspec": {
   "display_name": "Python 3",
   "language": "python",
   "name": "python3"
  },
  "language_info": {
   "codemirror_mode": {
    "name": "ipython",
    "version": 3
   },
   "file_extension": ".py",
   "mimetype": "text/x-python",
   "name": "python",
   "nbconvert_exporter": "python",
   "pygments_lexer": "ipython3",
   "version": "3.6.0"
  }
 },
 "nbformat": 4,
 "nbformat_minor": 2
}
