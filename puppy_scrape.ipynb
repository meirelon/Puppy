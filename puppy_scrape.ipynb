{
 "cells": [
  {
   "cell_type": "code",
   "execution_count": 1,
   "metadata": {
    "collapsed": false
   },
   "outputs": [],
   "source": [
    "import lxml.html\n",
    "import requests\n",
    "from bs4 import BeautifulSoup as bs\n",
    "import pandas as pd\n",
    "import re\n",
    "import string\n",
    "import warnings\n",
    "import os\n",
    "warnings.filterwarnings('ignore')"
   ]
  },
  {
   "cell_type": "code",
   "execution_count": 22,
   "metadata": {
    "collapsed": true
   },
   "outputs": [],
   "source": [
    "url = \"https://www.puppyspot.com/puppies/view/490360\"\n",
    "r = requests.get(url)\n",
    "all_tags = bs(r.content, \"html.parser\")"
   ]
  },
  {
   "cell_type": "code",
   "execution_count": 24,
   "metadata": {
    "collapsed": false
   },
   "outputs": [
    {
     "data": {
      "text/plain": [
       "'Andrew'"
      ]
     },
     "execution_count": 24,
     "metadata": {},
     "output_type": "execute_result"
    }
   ],
   "source": [
    "tmp = [x.get_text().strip() for x in all_tags.find_all(class_ = \"puppy-detail-header-container\")][0]\n",
    "tmp2 = re.search(string = tmp, pattern = \"^[^\\n]+\").group(0).strip()"
   ]
  },
  {
   "cell_type": "code",
   "execution_count": 25,
   "metadata": {
    "collapsed": false
   },
   "outputs": [],
   "source": [
    "feature = [x.get_text().strip() for x in all_tags.find_all(\"dt\")][0:12]\n",
    "answer = [x.get_text().strip() for x in all_tags.find_all(\"dd\")][0:12]"
   ]
  },
  {
   "cell_type": "code",
   "execution_count": 31,
   "metadata": {
    "collapsed": false
   },
   "outputs": [
    {
     "data": {
      "text/plain": [
       "'19 weeks old'"
      ]
     },
     "execution_count": 31,
     "metadata": {},
     "output_type": "execute_result"
    }
   ],
   "source": [
    "pup_dict = dict(zip(feature, answer))\n",
    "try:\n",
    "    del pup_dict['Markings']\n",
    "except KeyError:\n",
    "    pass\n",
    "pup_dict[\"Age\"]#, \"Breed\", \"Color\", \"Dad's Weight\", \"Date Available\", \"Date of Birth\", \"Gender\", \"Mom's Weight\", \"Price\", \"Puppy ID\"]"
   ]
  },
  {
   "cell_type": "code",
   "execution_count": 55,
   "metadata": {
    "collapsed": false
   },
   "outputs": [],
   "source": [
    "pup_df = pd.DataFrame(pup_dict, index=[0])"
   ]
  },
  {
   "cell_type": "code",
   "execution_count": 63,
   "metadata": {
    "collapsed": false
   },
   "outputs": [],
   "source": [
    "pup_df[\"bio\"] = str([x.get_text().strip() for x in all_tags.find_all(class_ = \"puppy-bio\")][0])"
   ]
  },
  {
   "cell_type": "code",
   "execution_count": 32,
   "metadata": {
    "collapsed": false
   },
   "outputs": [],
   "source": [
    "def get_puppy_info(puppy_id):\n",
    "    url = \"https://www.puppyspot.com/puppies/view/%s/?page=1\" % puppy_id\n",
    "    r = requests.get(url)\n",
    "    all_tags = bs(r.content, \"html.parser\")\n",
    "    \n",
    "    feature = [x.get_text().strip() for x in all_tags.find_all(\"dt\")][0:12]\n",
    "    answer = [x.get_text().strip() for x in all_tags.find_all(\"dd\")][0:12]\n",
    "    pup_dict = dict(zip(feature, answer))\n",
    "    try:\n",
    "        del pup_dict['Markings']\n",
    "    except KeyError:\n",
    "        pass\n",
    "    try:\n",
    "        del pup_dict['Variety']\n",
    "    except KeyError:\n",
    "        pass\n",
    "    pup_df = pd.DataFrame(pup_dict, index=[0])\n",
    "    pup_df[\"bio\"] = str([x.get_text().strip() for x in all_tags.find_all(class_ = \"puppy-bio\")][0])\n",
    "    pup_name = [x.get_text().strip() for x in all_tags.find_all(class_ = \"puppy-detail-header-container\")][0]\n",
    "    pup_name = re.search(string = pup_name, pattern = \"^[^\\n]+\").group(0).strip()\n",
    "    pup_df.insert(0, column=\"puppy_name\", value=pup_name)\n",
    "    return(pup_df)"
   ]
  },
  {
   "cell_type": "code",
   "execution_count": 33,
   "metadata": {
    "collapsed": false
   },
   "outputs": [
    {
     "name": "stdout",
     "output_type": "stream",
     "text": [
      "490000 490100 490200 490300 490400 490500 490600 490700 490800 490900 491000 491100 491200 491300 491400 491500 491600 491700 491800 491900 492000 492100 492200 492300 492400 492500 492600 492700 492800 492900 493000 493100 493200 493300 493400 493500 493600 493700 493800 493900 494000 494100 494200 494300 494400 494500 494600 494700 494800 494900 495000 495100 495200 495300 495400 495500 495600 495700 495800 495900 496000 496100 496200 496300 496400 496500 496600 496700 496800 496900 497000 497100 497200 497300 497400 497500 497600 497700 497800 497900 498000 498100 498200 498300 498400 498500 498600 498700 498800 498900 499000 499100 499200 499300 499400 499500 499600 499700 499800 499900 500000 500100 500200 500300 500400 500500 500600 500700 500800 500900 501000 501100 501200 501300 501400 501500 501600 501700 501800 501900 502000 502100 502200 502300 502400 502500 502600 502700 502800 502900 503000 503100 503200 503300 503400 503500 503600 503700 503800 503900 504000 504100 504200 504300 504400 504500 504600 504700 504800 504900 505000 505100 505200 505300 505400 505500 505600 505700 505800 505900 506000 506100 506200 506300 506400 506500 506600 506700 506800 506900 507000 507100 507200 507300 507400 507500 507600 507700 507800 507900 508000 508100 508200 508300 508400 508500 508600 508700 508800 508900 509000 509100 509200 509300 509400 509500 509600 509700 509800 509900 510000 510100 510200 510300 510400 510500 510600 510700 510800 510900 511000 511100 511200 511300 511400 511500 511600 511700 511800 511900 512000 512100 512200 512300 512400 512500 512600 512700 512800 512900 513000 513100 513200 513300 513400 513500 513600 513700 513800 513900 514000 514100 514200 514300 514400 514500 514600 514700 514800 514900 515000 515100 515200 515300 515400 515500 515600 515700 515800 515900 516000 516100 516200 516300 516400 516500 516600 516700 516800 516900 517000 517100 517200 517300 517400 517500 517600 517700 517800 517900 518000 518100 518200 518300 518400 518500 518600 518700 518800 518900 519000 519100 519200 519300 519400 519500 519600 519700 519800 519900 520000 520100 520200 520300 520400 520500 520600 520700 520800 520900 521000 521100 521200 521300 521400 521500 521600 521700 521800 521900 522000 522100 522200 522300 522400 522500 522600 522700 522800 522900 523000 523100 523200 523300 523400 523500 523600 523700 523800 523900 524000 524100 524200 524300 524400 524500 524600 524700 524800 524900 525000 525100 525200 525300 525400 525500 525600 525700 525800 525900 526000 526100 526200 526300 526400 526500 526600 526700 526800 526900 527000 527100 527200 527300 527400 527500 527600 527700 527800 527900 528000 528100 528200 528300 528400 528500 528600 528700 528800 528900 529000 529100 529200 529300 529400 529500 529600 529700 529800 529900 "
     ]
    }
   ],
   "source": [
    "for i in range(490000, 530000):\n",
    "    if(i % 100 == 0):\n",
    "        print(i, end=\" \")\n",
    "    puppy_df = pd.DataFrame()\n",
    "    try:\n",
    "        puppy_df = get_puppy_info(str(i))\n",
    "    except:\n",
    "        next\n",
    "    if not os.path.isfile(\"C:\\\\Users\\\\mnest\\\\Google Drive\\\\PYWD\\\\Puppyspot\\\\puppy_info3.csv\"):\n",
    "        puppy_df.to_csv(\"C:\\\\Users\\\\mnest\\\\Google Drive\\\\PYWD\\\\Puppyspot\\\\puppy_info3.csv\", mode = \"a\", index = False, header = True)\n",
    "    else:\n",
    "        puppy_df.to_csv(\"C:\\\\Users\\\\mnest\\\\Google Drive\\\\PYWD\\\\Puppyspot\\\\puppy_info3.csv\", mode='a', index = False, header = False)"
   ]
  }
 ],
 "metadata": {
  "kernelspec": {
   "display_name": "Python 3",
   "language": "python",
   "name": "python3"
  },
  "language_info": {
   "codemirror_mode": {
    "name": "ipython",
    "version": 3
   },
   "file_extension": ".py",
   "mimetype": "text/x-python",
   "name": "python",
   "nbconvert_exporter": "python",
   "pygments_lexer": "ipython3",
   "version": "3.6.0"
  }
 },
 "nbformat": 4,
 "nbformat_minor": 2
}
