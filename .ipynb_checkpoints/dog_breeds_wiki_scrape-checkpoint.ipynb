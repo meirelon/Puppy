{
 "cells": [
  {
   "cell_type": "code",
   "execution_count": 1,
   "metadata": {
    "collapsed": true
   },
   "outputs": [],
   "source": [
    "import lxml.html\n",
    "import requests\n",
    "from bs4 import BeautifulSoup as bs\n",
    "import pandas as pd\n",
    "import re\n",
    "import string\n",
    "import warnings\n",
    "import os\n",
    "import numpy as np\n",
    "warnings.filterwarnings('ignore')"
   ]
  },
  {
   "cell_type": "markdown",
   "metadata": {},
   "source": [
    "# Create the function that will scrape wikipedia by page"
   ]
  },
  {
   "cell_type": "code",
   "execution_count": 9,
   "metadata": {
    "collapsed": true
   },
   "outputs": [],
   "source": [
    "def get_dog_wiki_page(breed):\n",
    "    #Next two lines will create the extension to be appended at the end of the wikipedia url.\n",
    "    a = breed.split(\" \")\n",
    "    page = '_'.join(a) + \"_(dog)\"\n",
    "    url = \"https://en.wikipedia.org/wiki/%s\" % page\n",
    "    #Make the request to this specific wikipedia page\n",
    "    r = requests.get(url)\n",
    "    #Read the html tags as a Beautiful Soup object\n",
    "    all_tags = bs(r.content, \"html.parser\")\n",
    "    if(any(np.array([x.get_text().strip() for x in all_tags.find_all(\"b\")]) == \"Wikipedia does not have an article with this exact name.\")):\n",
    "        page = re.sub(string=page, pattern=\"_\\(dog\\)\", repl=\"\")\n",
    "        url = \"https://en.wikipedia.org/wiki/%s\" % page\n",
    "        #Make the request to this specific wikipedia page\n",
    "        r = requests.get(url)\n",
    "        #Read the html tags as a Beautiful Soup object\n",
    "        all_tags = bs(r.content, \"html.parser\")\n",
    "    #Extract all text content from wikipedia page\n",
    "    text = [x.get_text().strip() for x in all_tags.find_all(\"p\")]\n",
    "    #Extract all headers from wikipedia page\n",
    "    headlines = [x.get_text().strip() for x in all_tags.find_all(class_ = \"mw-headline\")]\n",
    "    #Convert text object from list to numpy array for flexability. Remove empty content.\n",
    "    text_array = np.array(text)[np.array([len(x) for x in text]) > 0]\n",
    "    #Create a dictionary. Key = Header, Value = Text\n",
    "    wiki_page_dict = dict(zip(np.array(headlines[0:len(text_array)]), text_array))\n",
    "    #Convert dictionary into Pandas DataFrame\n",
    "    wiki_page_df = pd.DataFrame(wiki_page_dict, index=[0])\n",
    "    #Insert columnn for dog breed name\n",
    "    wiki_page_df.insert(0, column = \"breed_name\", value = re.sub(string=page, pattern=\"_\\(dog\\)\", repl=\"\"))\n",
    "    return(wiki_page_df)"
   ]
  },
  {
   "cell_type": "code",
   "execution_count": 16,
   "metadata": {
    "collapsed": false
   },
   "outputs": [
    {
     "data": {
      "text/html": [
       "<div>\n",
       "<table border=\"1\" class=\"dataframe\">\n",
       "  <thead>\n",
       "    <tr style=\"text-align: right;\">\n",
       "      <th></th>\n",
       "      <th>breed_name</th>\n",
       "      <th>Coat</th>\n",
       "      <th>Cultural significance</th>\n",
       "      <th>Description</th>\n",
       "      <th>Exercise</th>\n",
       "      <th>External links</th>\n",
       "      <th>Health</th>\n",
       "      <th>History</th>\n",
       "      <th>Hunting dog</th>\n",
       "      <th>Name change</th>\n",
       "      <th>References</th>\n",
       "      <th>See also</th>\n",
       "      <th>Temperament</th>\n",
       "    </tr>\n",
       "  </thead>\n",
       "  <tbody>\n",
       "    <tr>\n",
       "      <th>0</th>\n",
       "      <td>Great_Dane</td>\n",
       "      <td>Bigger dogs are depicted on numerous runestone...</td>\n",
       "      <td>In the 19th century, the dog was known as a \"G...</td>\n",
       "      <td>These large boarhounds continue to appear thro...</td>\n",
       "      <td>The dogs were used for hunting bear, boar, and...</td>\n",
       "      <td>The Great Dane combines, in its regal appearan...</td>\n",
       "      <td>While hunting boar or bears, the Englische Dog...</td>\n",
       "      <td>The Great Dane is a large German breed of dome...</td>\n",
       "      <td>The Great Dane is one of the tallest dog breed...</td>\n",
       "      <td>Large boarhounds resembling the Great Dane app...</td>\n",
       "      <td>As described by the American Kennel Club:</td>\n",
       "      <td>The Great Dane is a large German domestic dog ...</td>\n",
       "      <td>In the middle of the 16th century, the nobilit...</td>\n",
       "    </tr>\n",
       "  </tbody>\n",
       "</table>\n",
       "</div>"
      ],
      "text/plain": [
       "   breed_name                                               Coat  \\\n",
       "0  Great_Dane  Bigger dogs are depicted on numerous runestone...   \n",
       "\n",
       "                               Cultural significance  \\\n",
       "0  In the 19th century, the dog was known as a \"G...   \n",
       "\n",
       "                                         Description  \\\n",
       "0  These large boarhounds continue to appear thro...   \n",
       "\n",
       "                                            Exercise  \\\n",
       "0  The dogs were used for hunting bear, boar, and...   \n",
       "\n",
       "                                      External links  \\\n",
       "0  The Great Dane combines, in its regal appearan...   \n",
       "\n",
       "                                              Health  \\\n",
       "0  While hunting boar or bears, the Englische Dog...   \n",
       "\n",
       "                                             History  \\\n",
       "0  The Great Dane is a large German breed of dome...   \n",
       "\n",
       "                                         Hunting dog  \\\n",
       "0  The Great Dane is one of the tallest dog breed...   \n",
       "\n",
       "                                         Name change  \\\n",
       "0  Large boarhounds resembling the Great Dane app...   \n",
       "\n",
       "                                  References  \\\n",
       "0  As described by the American Kennel Club:   \n",
       "\n",
       "                                            See also  \\\n",
       "0  The Great Dane is a large German domestic dog ...   \n",
       "\n",
       "                                         Temperament  \n",
       "0  In the middle of the 16th century, the nobilit...  "
      ]
     },
     "execution_count": 16,
     "metadata": {},
     "output_type": "execute_result"
    }
   ],
   "source": [
    "get_dog_wiki_page(\"Great Dane\")"
   ]
  },
  {
   "cell_type": "markdown",
   "metadata": {},
   "source": [
    "# Create list of dog breeds"
   ]
  },
  {
   "cell_type": "code",
   "execution_count": 13,
   "metadata": {
    "collapsed": true
   },
   "outputs": [],
   "source": [
    "dog_breeds = [\"Akita\",\n",
    "\"Alapaha Blue Blood Bulldog\",\n",
    "\"American Bulldog\",\n",
    "\"Australian Shepherd\",\n",
    "\"Basset Hound\",\n",
    "\"Beagle\",\n",
    "\"Bernese Mountain Dog\",\n",
    "\"Bichon Frise\",\n",
    "\"Border Collie\",\n",
    "\"Boston Terrier\",\n",
    "\"Boxer\",\n",
    "\"Bulldog\",\n",
    "\"Bullmastiff\",\n",
    "\"Cairn Terrier\",\n",
    "\"Cane Corso\",\n",
    "\"Cavalier King Charles Spaniel\",\n",
    "\"Chihuahua\",\n",
    "\"Chinese Shar-Pei\",\n",
    "\"Cocker Spaniel\",\n",
    "\"Collie\",\n",
    "\"Coton de Tulear\",\n",
    "\"Dachshund\",\n",
    "\"Dalmatian\",\n",
    "\"Doberman Pinscher\",\n",
    "\"Dogue de Bordeaux\",\n",
    "\"English Springer Spaniel\",\n",
    "\"French Bulldog\",\n",
    "\"German Shepherd\",\n",
    "\"Golden Retriever\",\n",
    "\"Great Dane\",\n",
    "\"Great Pyrenees\",\n",
    "\"Havanese\",\n",
    "\"Italian Greyhound\",\n",
    "\"Jack Russell Terrier\",\n",
    "\"Labrador Retriever\",\n",
    "\"Lhasa Apso\",\n",
    "\"Maltese\",\n",
    "\"Mastiff\",\n",
    "\"Miniature American Shepherd\",\n",
    "\"Miniature Australian Shepherd\",\n",
    "\"Miniature Pinscher\",\n",
    "\"Newfoundland\",\n",
    "\"Olde English Bulldogge\",\n",
    "\"Papillon\",\n",
    "\"Pekingese\",\n",
    "\"Pembroke Welsh Corgi\",\n",
    "\"Pomeranian\",\n",
    "\"Poodle\",\n",
    "\"Pug\",\n",
    "\"Rottweiler\",\n",
    "\"Saint Bernard\",\n",
    "\"Schnauzer\",\n",
    "\"Shetland Sheepdog\",\n",
    "\"Shiba Inu\",\n",
    "\"Shih Tzu\",\n",
    "\"Siberian Husky\",\n",
    "\"West Highland White Terrier\",\n",
    "\"Whippet\",\n",
    "\"Yorkshire Terrier\"]"
   ]
  },
  {
   "cell_type": "code",
   "execution_count": 13,
   "metadata": {
    "collapsed": false
   },
   "outputs": [
    {
     "data": {
      "text/plain": [
       "'Great_Dane'"
      ]
     },
     "execution_count": 13,
     "metadata": {},
     "output_type": "execute_result"
    }
   ],
   "source": [
    "re.sub(string=\"Great_Dane_(dog)\", pattern=\"_\\(dog\\)\", repl=\"\")"
   ]
  },
  {
   "cell_type": "markdown",
   "metadata": {},
   "source": [
    "# For loop through dog breeds"
   ]
  },
  {
   "cell_type": "code",
   "execution_count": 15,
   "metadata": {
    "collapsed": false
   },
   "outputs": [
    {
     "name": "stdout",
     "output_type": "stream",
     "text": [
      "Akita Alapaha Blue Blood Bulldog American Bulldog Australian Shepherd Basset Hound Beagle Bernese Mountain Dog Bichon Frise Border Collie Boston Terrier Boxer Bulldog Bullmastiff Cairn Terrier Cane Corso Cavalier King Charles Spaniel Chihuahua Chinese Shar-Pei Cocker Spaniel Collie Coton de Tulear Dachshund Dalmatian Doberman Pinscher Dogue de Bordeaux English Springer Spaniel French Bulldog German Shepherd Golden Retriever Great Dane Great Pyrenees Havanese Italian Greyhound Jack Russell Terrier Labrador Retriever Lhasa Apso Maltese Mastiff Miniature American Shepherd Miniature Australian Shepherd Miniature Pinscher Newfoundland Olde English Bulldogge Papillon Pekingese Pembroke Welsh Corgi Pomeranian Poodle Pug Rottweiler Saint Bernard Schnauzer Shetland Sheepdog Shiba Inu Shih Tzu Siberian Husky West Highland White Terrier Whippet Yorkshire Terrier "
     ]
    }
   ],
   "source": [
    "for dog_breed in dog_breeds:\n",
    "    print(dog_breed, end = \" \")\n",
    "    b = dog_breed.split(\" \")\n",
    "    b = '_'.join(b)\n",
    "    tmp = get_dog_wiki_page(dog_breed)\n",
    "    tmp.to_csv(\"C:\\\\Users\\\\mnest\\\\Google Drive\\\\PYWD\\\\Puppyspot\\\\dog_wiki\\\\%s.csv\" % b)"
   ]
  }
 ],
 "metadata": {
  "kernelspec": {
   "display_name": "Python 3",
   "language": "python",
   "name": "python3"
  },
  "language_info": {
   "codemirror_mode": {
    "name": "ipython",
    "version": 3
   },
   "file_extension": ".py",
   "mimetype": "text/x-python",
   "name": "python",
   "nbconvert_exporter": "python",
   "pygments_lexer": "ipython3",
   "version": "3.6.0"
  }
 },
 "nbformat": 4,
 "nbformat_minor": 2
}
