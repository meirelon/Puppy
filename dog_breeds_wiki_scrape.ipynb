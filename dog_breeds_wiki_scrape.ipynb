{
 "cells": [
  {
   "cell_type": "code",
   "execution_count": 15,
   "metadata": {
    "collapsed": true
   },
   "outputs": [],
   "source": [
    "import lxml.html\n",
    "import requests\n",
    "from bs4 import BeautifulSoup as bs\n",
    "import pandas as pd\n",
    "import re\n",
    "import string\n",
    "import warnings\n",
    "import os\n",
    "import numpy as np\n",
    "warnings.filterwarnings('ignore')"
   ]
  },
  {
   "cell_type": "markdown",
   "metadata": {},
   "source": [
    "# Create the function that will scrape wikipedia by page"
   ]
  },
  {
   "cell_type": "code",
   "execution_count": 36,
   "metadata": {
    "collapsed": true
   },
   "outputs": [],
   "source": [
    "def get_dog_wiki_page(breed):\n",
    "    #Next two lines will create the extension to be appended at the end of the wikipedia url.\n",
    "    a = breed.split(\" \")\n",
    "    page = '_'.join(a)\n",
    "    url = \"https://en.wikipedia.org/wiki/%s\" % page\n",
    "    #Make the request to this specific wikipedia page\n",
    "    r = requests.get(url)\n",
    "    #Read the html tags as a Beautiful Soup object\n",
    "    all_tags = bs(r.content, \"html.parser\")\n",
    "    #Extract all text content from wikipedia page\n",
    "    text = [x.get_text().strip() for x in all_tags.find_all(\"p\")]\n",
    "    #Extract all headers from wikipedia page\n",
    "    headlines = [x.get_text().strip() for x in all_tags.find_all(class_ = \"mw-headline\")]\n",
    "    #Convert text object from list to numpy array for flexability. Remove empty content.\n",
    "    text_array = np.array(text)[np.array([len(x) for x in text]) > 0]\n",
    "    #Create a dictionary. Key = Header, Value = Text\n",
    "    wiki_page_dict = dict(zip(np.array(headlines[0:len(text_array)]), text_array))\n",
    "    #Convert dictionary into Pandas DataFrame\n",
    "    wiki_page_df = pd.DataFrame(wiki_page_dict, index=[0])\n",
    "    #Insert columnn for dog breed name\n",
    "    wiki_page_df.insert(0, column = \"breed_name\", value = page)\n",
    "    return(wiki_page_df)"
   ]
  },
  {
   "cell_type": "code",
   "execution_count": 39,
   "metadata": {
    "collapsed": false
   },
   "outputs": [
    {
     "data": {
      "text/html": [
       "<div>\n",
       "<table border=\"1\" class=\"dataframe\">\n",
       "  <thead>\n",
       "    <tr style=\"text-align: right;\">\n",
       "      <th></th>\n",
       "      <th>breed_name</th>\n",
       "      <th>Activities</th>\n",
       "      <th>Appearance</th>\n",
       "      <th>Build and proportions</th>\n",
       "      <th>Care</th>\n",
       "      <th>Colouring</th>\n",
       "      <th>External links</th>\n",
       "      <th>Footnotes</th>\n",
       "      <th>Four breeds of Sennenhund</th>\n",
       "      <th>Further reading</th>\n",
       "      <th>...</th>\n",
       "      <th>Height and weight ranges</th>\n",
       "      <th>History</th>\n",
       "      <th>Life expectancy</th>\n",
       "      <th>Medical problems</th>\n",
       "      <th>Notable Bernese Mountain Dogs</th>\n",
       "      <th>Notes</th>\n",
       "      <th>Other physical traits</th>\n",
       "      <th>References</th>\n",
       "      <th>See also</th>\n",
       "      <th>Temperament</th>\n",
       "    </tr>\n",
       "  </thead>\n",
       "  <tbody>\n",
       "    <tr>\n",
       "      <th>0</th>\n",
       "      <td>Bernese_Mountain_Dog</td>\n",
       "      <td>In the US, the Bernese Mountain Dog is growing...</td>\n",
       "      <td>The Bernese Mountain Dog, called in German the...</td>\n",
       "      <td>The Bernese mountain dog is slightly longer th...</td>\n",
       "      <td>The breed was used as an all purpose farm dog ...</td>\n",
       "      <td>Like the other Sennenhunde, the Bernese mounta...</td>\n",
       "      <td>Special attention should be paid to the ears o...</td>\n",
       "      <td>The Bernese's calm temperament makes them a na...</td>\n",
       "      <td>The four breeds of Sennenhund, with the origin...</td>\n",
       "      <td>Bernese Mountain Dogs shed year-round, and the...</td>\n",
       "      <td>...</td>\n",
       "      <td>Height at the withers is 24–28 in (61–71 cm) f...</td>\n",
       "      <td>Bernese are outdoor dogs at heart, though well...</td>\n",
       "      <td>Historically, in some locales at least, the br...</td>\n",
       "      <td>Bernese work well with other pets and around s...</td>\n",
       "      <td>Cancer is the leading cause of death for dogs ...</td>\n",
       "      <td>On July 1, 2010, the Bernese Mountain Dog beca...</td>\n",
       "      <td>The head of the Bernese mountain dog is flat o...</td>\n",
       "      <td>Compared to breeds of similar size as well as ...</td>\n",
       "      <td>Bernese Mountain Dogs have an unusually high m...</td>\n",
       "      <td>The breed standard for the Bernese mountain do...</td>\n",
       "    </tr>\n",
       "  </tbody>\n",
       "</table>\n",
       "<p>1 rows × 22 columns</p>\n",
       "</div>"
      ],
      "text/plain": [
       "             breed_name                                         Activities  \\\n",
       "0  Bernese_Mountain_Dog  In the US, the Bernese Mountain Dog is growing...   \n",
       "\n",
       "                                          Appearance  \\\n",
       "0  The Bernese Mountain Dog, called in German the...   \n",
       "\n",
       "                               Build and proportions  \\\n",
       "0  The Bernese mountain dog is slightly longer th...   \n",
       "\n",
       "                                                Care  \\\n",
       "0  The breed was used as an all purpose farm dog ...   \n",
       "\n",
       "                                           Colouring  \\\n",
       "0  Like the other Sennenhunde, the Bernese mounta...   \n",
       "\n",
       "                                      External links  \\\n",
       "0  Special attention should be paid to the ears o...   \n",
       "\n",
       "                                           Footnotes  \\\n",
       "0  The Bernese's calm temperament makes them a na...   \n",
       "\n",
       "                           Four breeds of Sennenhund  \\\n",
       "0  The four breeds of Sennenhund, with the origin...   \n",
       "\n",
       "                                     Further reading  \\\n",
       "0  Bernese Mountain Dogs shed year-round, and the...   \n",
       "\n",
       "                         ...                          \\\n",
       "0                        ...                           \n",
       "\n",
       "                            Height and weight ranges  \\\n",
       "0  Height at the withers is 24–28 in (61–71 cm) f...   \n",
       "\n",
       "                                             History  \\\n",
       "0  Bernese are outdoor dogs at heart, though well...   \n",
       "\n",
       "                                     Life expectancy  \\\n",
       "0  Historically, in some locales at least, the br...   \n",
       "\n",
       "                                    Medical problems  \\\n",
       "0  Bernese work well with other pets and around s...   \n",
       "\n",
       "                       Notable Bernese Mountain Dogs  \\\n",
       "0  Cancer is the leading cause of death for dogs ...   \n",
       "\n",
       "                                               Notes  \\\n",
       "0  On July 1, 2010, the Bernese Mountain Dog beca...   \n",
       "\n",
       "                               Other physical traits  \\\n",
       "0  The head of the Bernese mountain dog is flat o...   \n",
       "\n",
       "                                          References  \\\n",
       "0  Compared to breeds of similar size as well as ...   \n",
       "\n",
       "                                            See also  \\\n",
       "0  Bernese Mountain Dogs have an unusually high m...   \n",
       "\n",
       "                                         Temperament  \n",
       "0  The breed standard for the Bernese mountain do...  \n",
       "\n",
       "[1 rows x 22 columns]"
      ]
     },
     "execution_count": 39,
     "metadata": {},
     "output_type": "execute_result"
    }
   ],
   "source": [
    "get_dog_wiki_page(\"Bernese Mountain Dog\")"
   ]
  },
  {
   "cell_type": "markdown",
   "metadata": {},
   "source": [
    "# Create list of dog breeds"
   ]
  },
  {
   "cell_type": "code",
   "execution_count": 40,
   "metadata": {
    "collapsed": true
   },
   "outputs": [],
   "source": [
    "dog_breeds = [\"Akita\",\n",
    "\"Alapaha Blue Blood Bulldog\",\n",
    "\"American Bulldog\",\n",
    "\"Australian Shepherd\",\n",
    "\"Basset Hound\",\n",
    "\"Beagle\",\n",
    "\"Bernese Mountain Dog\",\n",
    "\"Bichon Frise\",\n",
    "\"Border Collie\",\n",
    "\"Boston Terrier\",\n",
    "\"Boxer\",\n",
    "\"Bulldog\",\n",
    "\"Bullmastiff\",\n",
    "\"Cairn Terrier\",\n",
    "\"Cane Corso\",\n",
    "\"Cavalier King Charles Spaniel\",\n",
    "\"Chihuahua\",\n",
    "\"Chinese Shar-Pei\",\n",
    "\"Cocker Spaniel\",\n",
    "\"Collie\",\n",
    "\"Coton de Tulear\",\n",
    "\"Dachshund\",\n",
    "\"Dalmatian\",\n",
    "\"Doberman Pinscher\",\n",
    "\"Dogue de Bordeaux\",\n",
    "\"English Springer Spaniel\",\n",
    "\"French Bulldog\",\n",
    "\"German Shepherd\",\n",
    "\"Golden Retriever\",\n",
    "\"Great Dane\",\n",
    "\"Great Pyrenees\",\n",
    "\"Havanese\",\n",
    "\"Italian Greyhound\",\n",
    "\"Jack Russell Terrier\",\n",
    "\"Labrador Retriever\",\n",
    "\"Lhasa Apso\",\n",
    "\"Maltese\",\n",
    "\"Mastiff\",\n",
    "\"Miniature American Shepherd\",\n",
    "\"Miniature Australian Shepherd\",\n",
    "\"Miniature Pinscher\",\n",
    "\"Newfoundland\",\n",
    "\"Olde English Bulldogge\",\n",
    "\"Papillon\",\n",
    "\"Pekingese\",\n",
    "\"Pembroke Welsh Corgi\",\n",
    "\"Pomeranian\",\n",
    "\"Poodle\",\n",
    "\"Pug\",\n",
    "\"Rottweiler\",\n",
    "\"Saint Bernard\",\n",
    "\"Schnauzer\",\n",
    "\"Shetland Sheepdog\",\n",
    "\"Shiba Inu\",\n",
    "\"Shih Tzu\",\n",
    "\"Siberian Husky\",\n",
    "\"West Highland White Terrier\",\n",
    "\"Whippet\",\n",
    "\"Yorkshire Terrier\"]"
   ]
  },
  {
   "cell_type": "markdown",
   "metadata": {},
   "source": [
    "# For loop through dog breeds"
   ]
  },
  {
   "cell_type": "code",
   "execution_count": 43,
   "metadata": {
    "collapsed": false
   },
   "outputs": [
    {
     "name": "stdout",
     "output_type": "stream",
     "text": [
      "Akita Alapaha Blue Blood Bulldog American Bulldog Australian Shepherd Basset Hound Beagle Bernese Mountain Dog Bichon Frise Border Collie Boston Terrier Boxer Bulldog Bullmastiff Cairn Terrier Cane Corso Cavalier King Charles Spaniel Chihuahua Chinese Shar-Pei Cocker Spaniel Collie Coton de Tulear Dachshund Dalmatian Doberman Pinscher Dogue de Bordeaux English Springer Spaniel French Bulldog German Shepherd Golden Retriever Great Dane Great Pyrenees Havanese Italian Greyhound Jack Russell Terrier Labrador Retriever Lhasa Apso Maltese Mastiff Miniature American Shepherd Miniature Australian Shepherd Miniature Pinscher Newfoundland Olde English Bulldogge Papillon Pekingese Pembroke Welsh Corgi Pomeranian Poodle Pug Rottweiler Saint Bernard Schnauzer Shetland Sheepdog Shiba Inu Shih Tzu Siberian Husky West Highland White Terrier Whippet Yorkshire Terrier "
     ]
    }
   ],
   "source": [
    "for dog_breed in dog_breeds:\n",
    "    print(dog_breed, end = \" \")\n",
    "    tmp = get_dog_wiki_page(dog_breed)\n",
    "    tmp.to_csv(\"C:\\\\Users\\\\mnest\\\\Google Drive\\\\PYWD\\\\Puppyspot\\\\dog_wiki\\\\%s.csv\" % b)"
   ]
  }
 ],
 "metadata": {
  "kernelspec": {
   "display_name": "Python 3",
   "language": "python",
   "name": "python3"
  },
  "language_info": {
   "codemirror_mode": {
    "name": "ipython",
    "version": 3
   },
   "file_extension": ".py",
   "mimetype": "text/x-python",
   "name": "python",
   "nbconvert_exporter": "python",
   "pygments_lexer": "ipython3",
   "version": "3.6.0"
  }
 },
 "nbformat": 4,
 "nbformat_minor": 2
}
