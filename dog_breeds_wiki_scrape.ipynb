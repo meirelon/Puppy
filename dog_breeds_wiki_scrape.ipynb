{
 "cells": [
  {
   "cell_type": "code",
   "execution_count": 1,
   "metadata": {
    "collapsed": true
   },
   "outputs": [],
   "source": [
    "import lxml.html\n",
    "import requests\n",
    "from bs4 import BeautifulSoup as bs\n",
    "import pandas as pd\n",
    "import re\n",
    "import string\n",
    "import warnings\n",
    "import os\n",
    "import numpy as np\n",
    "warnings.filterwarnings('ignore')"
   ]
  },
  {
   "cell_type": "markdown",
   "metadata": {},
   "source": [
    "# Create the function that will scrape wikipedia by page"
   ]
  },
  {
   "cell_type": "code",
   "execution_count": 14,
   "metadata": {
    "collapsed": true
   },
   "outputs": [],
   "source": [
    "def get_dog_wiki_page(breed):\n",
    "    #Next two lines will create the extension to be appended at the end of the wikipedia url.\n",
    "    a = breed.split(\" \")\n",
    "    page = '_'.join(a) + \"_(dog)\"\n",
    "    url = \"https://en.wikipedia.org/wiki/%s\" % page\n",
    "    #Make the request to this specific wikipedia page\n",
    "    r = requests.get(url)\n",
    "    #Read the html tags as a Beautiful Soup object\n",
    "    all_tags = bs(r.content, \"html.parser\")\n",
    "    if(any(np.array([x.get_text().strip() for x in all_tags.find_all(\"b\")]) == \"Wikipedia does not have an article with this exact name.\")):\n",
    "        page = re.sub(string=page, pattern=\"_\\(dog\\)\", repl=\"\")\n",
    "        url = \"https://en.wikipedia.org/wiki/%s\" % page\n",
    "        #Make the request to this specific wikipedia page\n",
    "        r = requests.get(url)\n",
    "        #Read the html tags as a Beautiful Soup object\n",
    "        all_tags = bs(r.content, \"html.parser\")\n",
    "    #Extract all text content from wikipedia page\n",
    "    text = [x.get_text().strip() for x in all_tags.find_all(\"p\")]\n",
    "    #Extract all headers from wikipedia page\n",
    "    headlines = [x.get_text().strip() for x in all_tags.find_all(class_ = \"mw-headline\")]\n",
    "    #Convert text object from list to numpy array for flexability. Remove empty content.\n",
    "    text_array = np.array(text)[np.array([len(x) for x in text]) > 0]\n",
    "    #Create a dictionary. Key = Header, Value = Text\n",
    "    wiki_page_dict = dict(zip(np.array(headlines[0:len(text_array)]), text_array))\n",
    "    #Convert dictionary into Pandas DataFrame\n",
    "    wiki_page_df = pd.DataFrame(wiki_page_dict, index=[0])\n",
    "    #Insert columnn for dog breed name\n",
    "    wiki_page_df.insert(0, column = \"breed_name\", value = page)\n",
    "    return(wiki_page_df)"
   ]
  },
  {
   "cell_type": "code",
   "execution_count": 17,
   "metadata": {
    "collapsed": false
   },
   "outputs": [
    {
     "data": {
      "text/html": [
       "<div>\n",
       "<table border=\"1\" class=\"dataframe\">\n",
       "  <thead>\n",
       "    <tr style=\"text-align: right;\">\n",
       "      <th></th>\n",
       "      <th>breed_name</th>\n",
       "      <th>Appearance</th>\n",
       "      <th>Breed name</th>\n",
       "      <th>Coat and colours</th>\n",
       "      <th>Early genealogy</th>\n",
       "      <th>External links</th>\n",
       "      <th>Health</th>\n",
       "      <th>History</th>\n",
       "      <th>Nutrition</th>\n",
       "      <th>References</th>\n",
       "      <th>Temperament</th>\n",
       "      <th>Uses</th>\n",
       "      <th>White Boxers</th>\n",
       "    </tr>\n",
       "  </thead>\n",
       "  <tbody>\n",
       "    <tr>\n",
       "      <th>0</th>\n",
       "      <td>Boxer_(dog)</td>\n",
       "      <td>The Boxer is a medium-sized, short-haired bree...</td>\n",
       "      <td>White boxer</td>\n",
       "      <td>The first Boxer club was founded in 1895, with...</td>\n",
       "      <td>The Boxer does not carry the gene for a solid ...</td>\n",
       "      <td>In the past, breeders often euthanized white p...</td>\n",
       "      <td>The colour brindle can be with or without whit...</td>\n",
       "      <td>The Boxer is a short-haired breed, with a shin...</td>\n",
       "      <td>A red fawn boxer</td>\n",
       "      <td>Boxers with white markings covering more than ...</td>\n",
       "      <td>Boxers were originally a docked and cropped br...</td>\n",
       "      <td>\"Reverse\" brindle Boxer, cropped and docked</td>\n",
       "      <td>The head is the most distinctive feature of th...</td>\n",
       "    </tr>\n",
       "  </tbody>\n",
       "</table>\n",
       "</div>"
      ],
      "text/plain": [
       "    breed_name                                         Appearance  \\\n",
       "0  Boxer_(dog)  The Boxer is a medium-sized, short-haired bree...   \n",
       "\n",
       "    Breed name                                   Coat and colours  \\\n",
       "0  White boxer  The first Boxer club was founded in 1895, with...   \n",
       "\n",
       "                                     Early genealogy  \\\n",
       "0  The Boxer does not carry the gene for a solid ...   \n",
       "\n",
       "                                      External links  \\\n",
       "0  In the past, breeders often euthanized white p...   \n",
       "\n",
       "                                              Health  \\\n",
       "0  The colour brindle can be with or without whit...   \n",
       "\n",
       "                                             History         Nutrition  \\\n",
       "0  The Boxer is a short-haired breed, with a shin...  A red fawn boxer   \n",
       "\n",
       "                                          References  \\\n",
       "0  Boxers with white markings covering more than ...   \n",
       "\n",
       "                                         Temperament  \\\n",
       "0  Boxers were originally a docked and cropped br...   \n",
       "\n",
       "                                          Uses  \\\n",
       "0  \"Reverse\" brindle Boxer, cropped and docked   \n",
       "\n",
       "                                        White Boxers  \n",
       "0  The head is the most distinctive feature of th...  "
      ]
     },
     "execution_count": 17,
     "metadata": {},
     "output_type": "execute_result"
    }
   ],
   "source": [
    "get_dog_wiki_page(\"Boxer\")"
   ]
  },
  {
   "cell_type": "markdown",
   "metadata": {},
   "source": [
    "# Create list of dog breeds"
   ]
  },
  {
   "cell_type": "code",
   "execution_count": 40,
   "metadata": {
    "collapsed": true
   },
   "outputs": [],
   "source": [
    "dog_breeds = [\"Akita\",\n",
    "\"Alapaha Blue Blood Bulldog\",\n",
    "\"American Bulldog\",\n",
    "\"Australian Shepherd\",\n",
    "\"Basset Hound\",\n",
    "\"Beagle\",\n",
    "\"Bernese Mountain Dog\",\n",
    "\"Bichon Frise\",\n",
    "\"Border Collie\",\n",
    "\"Boston Terrier\",\n",
    "\"Boxer\",\n",
    "\"Bulldog\",\n",
    "\"Bullmastiff\",\n",
    "\"Cairn Terrier\",\n",
    "\"Cane Corso\",\n",
    "\"Cavalier King Charles Spaniel\",\n",
    "\"Chihuahua\",\n",
    "\"Chinese Shar-Pei\",\n",
    "\"Cocker Spaniel\",\n",
    "\"Collie\",\n",
    "\"Coton de Tulear\",\n",
    "\"Dachshund\",\n",
    "\"Dalmatian\",\n",
    "\"Doberman Pinscher\",\n",
    "\"Dogue de Bordeaux\",\n",
    "\"English Springer Spaniel\",\n",
    "\"French Bulldog\",\n",
    "\"German Shepherd\",\n",
    "\"Golden Retriever\",\n",
    "\"Great Dane\",\n",
    "\"Great Pyrenees\",\n",
    "\"Havanese\",\n",
    "\"Italian Greyhound\",\n",
    "\"Jack Russell Terrier\",\n",
    "\"Labrador Retriever\",\n",
    "\"Lhasa Apso\",\n",
    "\"Maltese\",\n",
    "\"Mastiff\",\n",
    "\"Miniature American Shepherd\",\n",
    "\"Miniature Australian Shepherd\",\n",
    "\"Miniature Pinscher\",\n",
    "\"Newfoundland\",\n",
    "\"Olde English Bulldogge\",\n",
    "\"Papillon\",\n",
    "\"Pekingese\",\n",
    "\"Pembroke Welsh Corgi\",\n",
    "\"Pomeranian\",\n",
    "\"Poodle\",\n",
    "\"Pug\",\n",
    "\"Rottweiler\",\n",
    "\"Saint Bernard\",\n",
    "\"Schnauzer\",\n",
    "\"Shetland Sheepdog\",\n",
    "\"Shiba Inu\",\n",
    "\"Shih Tzu\",\n",
    "\"Siberian Husky\",\n",
    "\"West Highland White Terrier\",\n",
    "\"Whippet\",\n",
    "\"Yorkshire Terrier\"]"
   ]
  },
  {
   "cell_type": "code",
   "execution_count": 13,
   "metadata": {
    "collapsed": false
   },
   "outputs": [
    {
     "data": {
      "text/plain": [
       "'Great_Dane'"
      ]
     },
     "execution_count": 13,
     "metadata": {},
     "output_type": "execute_result"
    }
   ],
   "source": [
    "re.sub(string=\"Great_Dane_(dog)\", pattern=\"_\\(dog\\)\", repl=\"\")\n"
   ]
  },
  {
   "cell_type": "markdown",
   "metadata": {},
   "source": [
    "# For loop through dog breeds"
   ]
  },
  {
   "cell_type": "code",
   "execution_count": 43,
   "metadata": {
    "collapsed": false
   },
   "outputs": [
    {
     "name": "stdout",
     "output_type": "stream",
     "text": [
      "Akita Alapaha Blue Blood Bulldog American Bulldog Australian Shepherd Basset Hound Beagle Bernese Mountain Dog Bichon Frise Border Collie Boston Terrier Boxer Bulldog Bullmastiff Cairn Terrier Cane Corso Cavalier King Charles Spaniel Chihuahua Chinese Shar-Pei Cocker Spaniel Collie Coton de Tulear Dachshund Dalmatian Doberman Pinscher Dogue de Bordeaux English Springer Spaniel French Bulldog German Shepherd Golden Retriever Great Dane Great Pyrenees Havanese Italian Greyhound Jack Russell Terrier Labrador Retriever Lhasa Apso Maltese Mastiff Miniature American Shepherd Miniature Australian Shepherd Miniature Pinscher Newfoundland Olde English Bulldogge Papillon Pekingese Pembroke Welsh Corgi Pomeranian Poodle Pug Rottweiler Saint Bernard Schnauzer Shetland Sheepdog Shiba Inu Shih Tzu Siberian Husky West Highland White Terrier Whippet Yorkshire Terrier "
     ]
    }
   ],
   "source": [
    "for dog_breed in dog_breeds:\n",
    "    print(dog_breed, end = \" \")\n",
    "    tmp = get_dog_wiki_page(dog_breed)\n",
    "    tmp.to_csv(\"C:\\\\Users\\\\mnest\\\\Google Drive\\\\PYWD\\\\Puppyspot\\\\dog_wiki\\\\%s.csv\" % b)"
   ]
  }
 ],
 "metadata": {
  "kernelspec": {
   "display_name": "Python 3",
   "language": "python",
   "name": "python3"
  },
  "language_info": {
   "codemirror_mode": {
    "name": "ipython",
    "version": 3
   },
   "file_extension": ".py",
   "mimetype": "text/x-python",
   "name": "python",
   "nbconvert_exporter": "python",
   "pygments_lexer": "ipython3",
   "version": "3.6.0"
  }
 },
 "nbformat": 4,
 "nbformat_minor": 2
}
